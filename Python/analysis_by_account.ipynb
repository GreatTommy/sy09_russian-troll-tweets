{
 "metadata": {
  "language_info": {
   "codemirror_mode": {
    "name": "ipython",
    "version": 3
   },
   "file_extension": ".py",
   "mimetype": "text/x-python",
   "name": "python",
   "nbconvert_exporter": "python",
   "pygments_lexer": "ipython3",
   "version": "3.9.1"
  },
  "orig_nbformat": 2,
  "kernelspec": {
   "name": "python391jvsc74a57bd0db1a8c55cd8c57749aba357ad6d7f02ea33a41f5335b95db64c81822b40200a7",
   "display_name": "Python 3.9.1 64-bit"
  }
 },
 "nbformat": 4,
 "nbformat_minor": 2,
 "cells": [
  {
   "cell_type": "code",
   "execution_count": 8,
   "metadata": {},
   "outputs": [],
   "source": [
    "import pandas as pd\n",
    "import numpy as np\n",
    "import matplotlib as mpl\n",
    "import matplotlib.pyplot as plt\n",
    "import seaborn as sns\n",
    "import random\n",
    "from sklearn.decomposition import PCA\n",
    "from sklearn.model_selection import train_test_split\n",
    "from sklearn.discriminant_analysis import QuadraticDiscriminantAnalysis\n",
    "from sklearn.discriminant_analysis import LinearDiscriminantAnalysis\n",
    "from sklearn.neighbors import KNeighborsClassifier\n",
    "from sklearn.metrics import accuracy_score\n",
    "from Pretraitement import Pretraitements\n",
    "base_path = \"C:\\\\Users\\\\ACER\\\\Desktop\\\\UTC\\\\SY09\\\\PROJET\\\\sy09_russian-troll-tweets\""
   ]
  },
  {
   "source": [
    "## Regroupement des lignes par auteur avec fusion de la colonne content"
   ],
   "cell_type": "markdown",
   "metadata": {}
  },
  {
   "cell_type": "code",
   "execution_count": 2,
   "metadata": {},
   "outputs": [],
   "source": [
    "p = 1\n",
    "original_data=pd.read_csv(os.path.join(base_path, \"Data\\combined_csv.csv\"), skiprows=lambda i: i>0 and random.random() > p)\n",
    "original_data=original_data[original_data['language']=='English']"
   ]
  },
  {
   "cell_type": "code",
   "execution_count": null,
   "metadata": {},
   "outputs": [],
   "source": [
    "original_data[\"content\"] = original_data[\"content\"].astype(str)\n",
    "data_by_account = original_data.groupby([\"author\", \"account_category\"])[\"content\"].apply(\" \".join).reset_index()\n"
   ]
  },
  {
   "cell_type": "code",
   "execution_count": null,
   "metadata": {},
   "outputs": [],
   "source": [
    "data_by_account.head()"
   ]
  },
  {
   "source": [
    "## Calcul des scores"
   ],
   "cell_type": "markdown",
   "metadata": {}
  },
  {
   "cell_type": "code",
   "execution_count": null,
   "metadata": {},
   "outputs": [],
   "source": [
    "pt=Pretraitements(data_by_account)\n",
    "pt.script_score()"
   ]
  },
  {
   "cell_type": "code",
   "execution_count": 15,
   "metadata": {},
   "outputs": [],
   "source": [
    "data_by_account.to_csv(os.path.join(base_path, \"Data\\data_with_scores\\data_by_account_with_scores.csv\"))"
   ]
  },
  {
   "source": [
    "## Analyse exploratoire"
   ],
   "cell_type": "markdown",
   "metadata": {}
  },
  {
   "cell_type": "code",
   "execution_count": 20,
   "metadata": {},
   "outputs": [],
   "source": [
    "account_data=pd.read_csv(os.path.join(base_path, \"Data\\data_with_scores\\data_by_account_with_scores.csv\"))\n",
    "selected_cat = ['HashtagGamer', 'LeftTroll', 'NewsFeed', 'RightTroll']\n",
    "dataset = account_data.loc[account_data[\"account_category\"].isin(selected_cat)]"
   ]
  },
  {
   "cell_type": "code",
   "execution_count": 21,
   "metadata": {},
   "outputs": [
    {
     "output_type": "execute_result",
     "data": {
      "text/plain": [
       "      Unnamed: 0           author account_category  \\\n",
       "0              0           10_GOP       RightTroll   \n",
       "2              2        1ERIK_LEE       RightTroll   \n",
       "4              4     2NDHALFONION       RightTroll   \n",
       "6              6      4EVER_SUSAN       RightTroll   \n",
       "7              7         4MYSQUAD        LeftTroll   \n",
       "...          ...              ...              ...   \n",
       "2153        2153       _NICKLUNA_       RightTroll   \n",
       "2154        2154          _RONBEN       RightTroll   \n",
       "2155        2155     _RUBY_WILLS_       RightTroll   \n",
       "2157        2157   _SHERYLGILBERT       RightTroll   \n",
       "2159        2159  _SOLOMONALBERT_        LeftTroll   \n",
       "\n",
       "                                                content  \\\n",
       "0     \"We have a sitting Democrat US Senator on tria...   \n",
       "2     Why is someone even against the #petition? I'l...   \n",
       "4     '@HalfOnionInABag Follow the other half an oni...   \n",
       "6     #Raiders defense playing hungry .. Bending and...   \n",
       "7     #blacklivesmatter #blm #equality #equalrights ...   \n",
       "...                                                 ...   \n",
       "2153  Send ur (least) fave #RINOs a msg... Send them...   \n",
       "2154  Which homosexual sex act do you disapprove of ...   \n",
       "2155  Liars @CarlyFiorina and #GOP frozen in denial ...   \n",
       "2157  I've never had a hobby. That is so weird! And ...   \n",
       "2159  BUT - #PlannedParenthood President @CecileRich...   \n",
       "\n",
       "      score_word_HashtagGamer  score_word_LeftTroll  score_word_NewsFeed  \\\n",
       "0                    7.888854             10.576907             7.373520   \n",
       "2                    0.027631              0.031460             0.010645   \n",
       "4                    0.045599              0.042946             0.000000   \n",
       "6                    0.735350              0.904342             0.298889   \n",
       "7                   38.599808             58.989807            39.244718   \n",
       "...                       ...                   ...                  ...   \n",
       "2153                53.427207             72.144976            49.408046   \n",
       "2154                 0.561859              0.636060             0.337416   \n",
       "2155                 3.188472              3.756781             1.889601   \n",
       "2157                 0.982081              0.745730             0.189025   \n",
       "2159                 0.349323              0.467769             0.393471   \n",
       "\n",
       "      score_word_RightTroll  score_hashtag_HashtagGamer  \\\n",
       "0                 17.507590                    0.000000   \n",
       "2                  0.027038                    0.000000   \n",
       "4                  0.062305                    0.000000   \n",
       "6                  0.922559                    0.000000   \n",
       "7                 39.832264                    0.000000   \n",
       "...                     ...                         ...   \n",
       "2153             113.075239                    0.009314   \n",
       "2154               0.588206                    0.000000   \n",
       "2155               4.532060                    0.000000   \n",
       "2157               0.587134                    0.000000   \n",
       "2159               0.546336                    0.000000   \n",
       "\n",
       "      score_hashtag_LeftTroll  score_hashtag_NewsFeed  \\\n",
       "0                    0.000000                0.000000   \n",
       "2                    0.011002                0.000000   \n",
       "4                    0.000000                0.000000   \n",
       "6                    0.000000                0.000000   \n",
       "7                   16.672661                0.799389   \n",
       "...                       ...                     ...   \n",
       "2153                 0.585849                4.035897   \n",
       "2154                 0.004194                0.000000   \n",
       "2155                 0.048864                0.000000   \n",
       "2157                 0.024590                0.000000   \n",
       "2159                 0.035477                0.000000   \n",
       "\n",
       "      score_hashtag_RightTroll  \n",
       "0                     0.000000  \n",
       "2                     0.000000  \n",
       "4                     0.000000  \n",
       "6                     0.014282  \n",
       "7                     0.380156  \n",
       "...                        ...  \n",
       "2153                  2.428882  \n",
       "2154                  0.012263  \n",
       "2155                  0.445384  \n",
       "2157                  0.000000  \n",
       "2159                  0.000000  \n",
       "\n",
       "[1029 rows x 12 columns]"
      ],
      "text/html": "<div>\n<style scoped>\n    .dataframe tbody tr th:only-of-type {\n        vertical-align: middle;\n    }\n\n    .dataframe tbody tr th {\n        vertical-align: top;\n    }\n\n    .dataframe thead th {\n        text-align: right;\n    }\n</style>\n<table border=\"1\" class=\"dataframe\">\n  <thead>\n    <tr style=\"text-align: right;\">\n      <th></th>\n      <th>Unnamed: 0</th>\n      <th>author</th>\n      <th>account_category</th>\n      <th>content</th>\n      <th>score_word_HashtagGamer</th>\n      <th>score_word_LeftTroll</th>\n      <th>score_word_NewsFeed</th>\n      <th>score_word_RightTroll</th>\n      <th>score_hashtag_HashtagGamer</th>\n      <th>score_hashtag_LeftTroll</th>\n      <th>score_hashtag_NewsFeed</th>\n      <th>score_hashtag_RightTroll</th>\n    </tr>\n  </thead>\n  <tbody>\n    <tr>\n      <th>0</th>\n      <td>0</td>\n      <td>10_GOP</td>\n      <td>RightTroll</td>\n      <td>\"We have a sitting Democrat US Senator on tria...</td>\n      <td>7.888854</td>\n      <td>10.576907</td>\n      <td>7.373520</td>\n      <td>17.507590</td>\n      <td>0.000000</td>\n      <td>0.000000</td>\n      <td>0.000000</td>\n      <td>0.000000</td>\n    </tr>\n    <tr>\n      <th>2</th>\n      <td>2</td>\n      <td>1ERIK_LEE</td>\n      <td>RightTroll</td>\n      <td>Why is someone even against the #petition? I'l...</td>\n      <td>0.027631</td>\n      <td>0.031460</td>\n      <td>0.010645</td>\n      <td>0.027038</td>\n      <td>0.000000</td>\n      <td>0.011002</td>\n      <td>0.000000</td>\n      <td>0.000000</td>\n    </tr>\n    <tr>\n      <th>4</th>\n      <td>4</td>\n      <td>2NDHALFONION</td>\n      <td>RightTroll</td>\n      <td>'@HalfOnionInABag Follow the other half an oni...</td>\n      <td>0.045599</td>\n      <td>0.042946</td>\n      <td>0.000000</td>\n      <td>0.062305</td>\n      <td>0.000000</td>\n      <td>0.000000</td>\n      <td>0.000000</td>\n      <td>0.000000</td>\n    </tr>\n    <tr>\n      <th>6</th>\n      <td>6</td>\n      <td>4EVER_SUSAN</td>\n      <td>RightTroll</td>\n      <td>#Raiders defense playing hungry .. Bending and...</td>\n      <td>0.735350</td>\n      <td>0.904342</td>\n      <td>0.298889</td>\n      <td>0.922559</td>\n      <td>0.000000</td>\n      <td>0.000000</td>\n      <td>0.000000</td>\n      <td>0.014282</td>\n    </tr>\n    <tr>\n      <th>7</th>\n      <td>7</td>\n      <td>4MYSQUAD</td>\n      <td>LeftTroll</td>\n      <td>#blacklivesmatter #blm #equality #equalrights ...</td>\n      <td>38.599808</td>\n      <td>58.989807</td>\n      <td>39.244718</td>\n      <td>39.832264</td>\n      <td>0.000000</td>\n      <td>16.672661</td>\n      <td>0.799389</td>\n      <td>0.380156</td>\n    </tr>\n    <tr>\n      <th>...</th>\n      <td>...</td>\n      <td>...</td>\n      <td>...</td>\n      <td>...</td>\n      <td>...</td>\n      <td>...</td>\n      <td>...</td>\n      <td>...</td>\n      <td>...</td>\n      <td>...</td>\n      <td>...</td>\n      <td>...</td>\n    </tr>\n    <tr>\n      <th>2153</th>\n      <td>2153</td>\n      <td>_NICKLUNA_</td>\n      <td>RightTroll</td>\n      <td>Send ur (least) fave #RINOs a msg... Send them...</td>\n      <td>53.427207</td>\n      <td>72.144976</td>\n      <td>49.408046</td>\n      <td>113.075239</td>\n      <td>0.009314</td>\n      <td>0.585849</td>\n      <td>4.035897</td>\n      <td>2.428882</td>\n    </tr>\n    <tr>\n      <th>2154</th>\n      <td>2154</td>\n      <td>_RONBEN</td>\n      <td>RightTroll</td>\n      <td>Which homosexual sex act do you disapprove of ...</td>\n      <td>0.561859</td>\n      <td>0.636060</td>\n      <td>0.337416</td>\n      <td>0.588206</td>\n      <td>0.000000</td>\n      <td>0.004194</td>\n      <td>0.000000</td>\n      <td>0.012263</td>\n    </tr>\n    <tr>\n      <th>2155</th>\n      <td>2155</td>\n      <td>_RUBY_WILLS_</td>\n      <td>RightTroll</td>\n      <td>Liars @CarlyFiorina and #GOP frozen in denial ...</td>\n      <td>3.188472</td>\n      <td>3.756781</td>\n      <td>1.889601</td>\n      <td>4.532060</td>\n      <td>0.000000</td>\n      <td>0.048864</td>\n      <td>0.000000</td>\n      <td>0.445384</td>\n    </tr>\n    <tr>\n      <th>2157</th>\n      <td>2157</td>\n      <td>_SHERYLGILBERT</td>\n      <td>RightTroll</td>\n      <td>I've never had a hobby. That is so weird! And ...</td>\n      <td>0.982081</td>\n      <td>0.745730</td>\n      <td>0.189025</td>\n      <td>0.587134</td>\n      <td>0.000000</td>\n      <td>0.024590</td>\n      <td>0.000000</td>\n      <td>0.000000</td>\n    </tr>\n    <tr>\n      <th>2159</th>\n      <td>2159</td>\n      <td>_SOLOMONALBERT_</td>\n      <td>LeftTroll</td>\n      <td>BUT - #PlannedParenthood President @CecileRich...</td>\n      <td>0.349323</td>\n      <td>0.467769</td>\n      <td>0.393471</td>\n      <td>0.546336</td>\n      <td>0.000000</td>\n      <td>0.035477</td>\n      <td>0.000000</td>\n      <td>0.000000</td>\n    </tr>\n  </tbody>\n</table>\n<p>1029 rows × 12 columns</p>\n</div>"
     },
     "metadata": {},
     "execution_count": 21
    }
   ],
   "source": [
    "dataset"
   ]
  },
  {
   "cell_type": "code",
   "execution_count": 67,
   "metadata": {},
   "outputs": [],
   "source": [
    "score_max = dataset[[\"score_word_HashtagGamer\", \"score_word_LeftTroll\", \"score_word_NewsFeed\", \"score_word_RightTroll\"]].idxmax(axis=1).apply(lambda x: x.split(\"_\")[2])"
   ]
  },
  {
   "cell_type": "code",
   "execution_count": 68,
   "metadata": {},
   "outputs": [
    {
     "output_type": "execute_result",
     "data": {
      "text/plain": [
       "0.7900874635568513"
      ]
     },
     "metadata": {},
     "execution_count": 68
    }
   ],
   "source": [
    "accuracy_score(dataset[\"account_category\"], score_max)"
   ]
  },
  {
   "source": [
    "## Classification KNN"
   ],
   "cell_type": "markdown",
   "metadata": {}
  },
  {
   "cell_type": "code",
   "execution_count": 76,
   "metadata": {},
   "outputs": [],
   "source": [
    "X_variables = [\"score_word_HashtagGamer\", \"score_hashtag_HashtagGamer\", \"score_word_LeftTroll\", \"score_hashtag_LeftTroll\", \"score_word_NewsFeed\", \"score_hashtag_NewsFeed\", \"score_word_RightTroll\", \"score_hashtag_RightTroll\"]\n",
    "y_variables = [\"account_category\"]\n",
    "X_dataset = dataset[X_variables]\n",
    "y_dataset = dataset[y_variables]\n",
    "X_train, X_test, y_train, y_test = train_test_split(X_dataset, y_dataset, test_size=0.33, random_state=0)"
   ]
  },
  {
   "source": [
    "### Avec PCA"
   ],
   "cell_type": "markdown",
   "metadata": {}
  },
  {
   "cell_type": "code",
   "execution_count": 77,
   "metadata": {},
   "outputs": [
    {
     "output_type": "stream",
     "name": "stdout",
     "text": [
      "[0.69988058 0.26722392]\n"
     ]
    }
   ],
   "source": [
    "pca = PCA(n_components=2)\n",
    "pca.fit(X_train)\n",
    "print(pca.explained_variance_ratio_)\n",
    "p_compo = pca.transform(X_train)"
   ]
  },
  {
   "cell_type": "code",
   "execution_count": 78,
   "metadata": {},
   "outputs": [
    {
     "output_type": "stream",
     "name": "stderr",
     "text": [
      "C:\\Users\\ACER\\AppData\\Local\\Programs\\Python\\Python39\\lib\\site-packages\\sklearn\\neighbors\\_classification.py:179: DataConversionWarning: A column-vector y was passed when a 1d array was expected. Please change the shape of y to (n_samples,), for example using ravel().\n  return self._fit(X, y)\n"
     ]
    },
    {
     "output_type": "execute_result",
     "data": {
      "text/plain": [
       "0.6411764705882353"
      ]
     },
     "metadata": {},
     "execution_count": 78
    }
   ],
   "source": [
    "neigh = KNeighborsClassifier(n_neighbors=5)\n",
    "neigh.fit(p_compo, y_train)\n",
    "X_test_pca = pca.transform(X_test)\n",
    "y_pred = neigh.predict(X_test_pca)\n",
    "accuracy_score(y_test, y_pred)"
   ]
  },
  {
   "source": [
    "### Sans PCA"
   ],
   "cell_type": "markdown",
   "metadata": {}
  },
  {
   "cell_type": "code",
   "execution_count": 79,
   "metadata": {},
   "outputs": [
    {
     "output_type": "stream",
     "name": "stderr",
     "text": [
      "C:\\Users\\ACER\\AppData\\Local\\Programs\\Python\\Python39\\lib\\site-packages\\sklearn\\neighbors\\_classification.py:179: DataConversionWarning: A column-vector y was passed when a 1d array was expected. Please change the shape of y to (n_samples,), for example using ravel().\n  return self._fit(X, y)\n"
     ]
    },
    {
     "output_type": "execute_result",
     "data": {
      "text/plain": [
       "0.8205882352941176"
      ]
     },
     "metadata": {},
     "execution_count": 79
    }
   ],
   "source": [
    "neigh = KNeighborsClassifier(n_neighbors=5)\n",
    "neigh.fit(X_train, y_train)\n",
    "y_pred = neigh.predict(X_test)\n",
    "accuracy_score(y_test, y_pred)"
   ]
  },
  {
   "source": [
    "### Sans PCA avec validation croisée fait maison"
   ],
   "cell_type": "markdown",
   "metadata": {}
  },
  {
   "cell_type": "code",
   "execution_count": 82,
   "metadata": {
    "tags": []
   },
   "outputs": [],
   "source": [
    "accuracies = np.empty(100)\n",
    "for i in range(100):\n",
    "    X_train, X_test, y_train, y_test = train_test_split(X_dataset, y_dataset, test_size=0.33, random_state=i)\n",
    "    neigh = KNeighborsClassifier(n_neighbors=5)\n",
    "    neigh.fit(X_train, y_train)\n",
    "    y_pred = neigh.predict(X_test)\n",
    "    accuracies[i] = accuracy_score(y_test, y_pred)\n"
   ]
  },
  {
   "cell_type": "code",
   "execution_count": 81,
   "metadata": {},
   "outputs": [
    {
     "output_type": "execute_result",
     "data": {
      "text/plain": [
       "                0\n",
       "count  100.000000\n",
       "mean     0.825559\n",
       "std      0.016845\n",
       "min      0.785294\n",
       "25%      0.814706\n",
       "50%      0.823529\n",
       "75%      0.838235\n",
       "max      0.873529"
      ],
      "text/html": "<div>\n<style scoped>\n    .dataframe tbody tr th:only-of-type {\n        vertical-align: middle;\n    }\n\n    .dataframe tbody tr th {\n        vertical-align: top;\n    }\n\n    .dataframe thead th {\n        text-align: right;\n    }\n</style>\n<table border=\"1\" class=\"dataframe\">\n  <thead>\n    <tr style=\"text-align: right;\">\n      <th></th>\n      <th>0</th>\n    </tr>\n  </thead>\n  <tbody>\n    <tr>\n      <th>count</th>\n      <td>100.000000</td>\n    </tr>\n    <tr>\n      <th>mean</th>\n      <td>0.825559</td>\n    </tr>\n    <tr>\n      <th>std</th>\n      <td>0.016845</td>\n    </tr>\n    <tr>\n      <th>min</th>\n      <td>0.785294</td>\n    </tr>\n    <tr>\n      <th>25%</th>\n      <td>0.814706</td>\n    </tr>\n    <tr>\n      <th>50%</th>\n      <td>0.823529</td>\n    </tr>\n    <tr>\n      <th>75%</th>\n      <td>0.838235</td>\n    </tr>\n    <tr>\n      <th>max</th>\n      <td>0.873529</td>\n    </tr>\n  </tbody>\n</table>\n</div>"
     },
     "metadata": {},
     "execution_count": 81
    }
   ],
   "source": [
    "pd.DataFrame(accuracies).describe()"
   ]
  }
 ]
}